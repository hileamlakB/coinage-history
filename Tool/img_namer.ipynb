{
 "cells": [
  {
   "cell_type": "code",
   "execution_count": 1,
   "metadata": {},
   "outputs": [
    {
     "name": "stdout",
     "output_type": "stream",
     "text": [
      "47_anonymous_denarius_obverse\n",
      "47_anonymous_denarius_reverse\n"
     ]
    }
   ],
   "source": [
    "name = \"\"\"\n",
    "Anonymous Denarius\n",
    "\n",
    "\"\"\"\n",
    "date = 47\n",
    "\n",
    "image_name_obs = str(date) + \"_\" +name.lower().replace(\" \", \"_\").replace(\".\", \"\").replace(\"-\",\"_\").replace(\"\\n\",\"\") + \"_obverse\"\n",
    "image_name_rev = str(date) + \"_\" +name.lower().replace(\" \", \"_\").replace(\".\", \"\").replace(\"-\",\"_\").replace(\"\\n\",\"\") + \"_reverse\"\n",
    "\n",
    "print(image_name_obs)\n",
    "print(image_name_rev)"
   ]
  }
 ],
 "metadata": {
  "kernelspec": {
   "display_name": "Python 3.8.8 ('base')",
   "language": "python",
   "name": "python3"
  },
  "language_info": {
   "codemirror_mode": {
    "name": "ipython",
    "version": 3
   },
   "file_extension": ".py",
   "mimetype": "text/x-python",
   "name": "python",
   "nbconvert_exporter": "python",
   "pygments_lexer": "ipython3",
   "version": "3.8.8"
  },
  "orig_nbformat": 4,
  "vscode": {
   "interpreter": {
    "hash": "150ff1da76dd6f0bd9126c35dc7a811284b34a0cf0ce57bf3134266f9f5fe093"
   }
  }
 },
 "nbformat": 4,
 "nbformat_minor": 2
}
